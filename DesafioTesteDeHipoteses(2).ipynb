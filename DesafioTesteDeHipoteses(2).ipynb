{
  "nbformat": 4,
  "nbformat_minor": 0,
  "metadata": {
    "colab": {
      "provenance": [],
      "include_colab_link": true
    },
    "kernelspec": {
      "name": "python3",
      "display_name": "Python 3"
    },
    "language_info": {
      "name": "python"
    }
  },
  "cells": [
    {
      "cell_type": "markdown",
      "metadata": {
        "id": "view-in-github",
        "colab_type": "text"
      },
      "source": [
        "<a href=\"https://colab.research.google.com/github/nadinne94/testes_de_hipotese/blob/main/DesafioTesteDeHipoteses(2).ipynb\" target=\"_parent\"><img src=\"https://colab.research.google.com/assets/colab-badge.svg\" alt=\"Open In Colab\"/></a>"
      ]
    },
    {
      "cell_type": "markdown",
      "source": [
        "# **Bootcamp Data Analytics 2024 | Challenge Teste de Hipóteses**"
      ],
      "metadata": {
        "id": "0fRBj8slNEA7"
      }
    },
    {
      "cell_type": "markdown",
      "source": [
        "# **Setor Alimentício**"
      ],
      "metadata": {
        "id": "qeVr9H3eNrFW"
      }
    },
    {
      "cell_type": "markdown",
      "source": [
        "Imagine que voce trabalha em uma empresa do setor alimentício, e o preço de\n",
        "determinado produto, um novo picolé, tem uma **distribuição norma com média igual a R\\$7,85 e desvio padrão igual a R\\$3,32**. Suspeita-se que devido ao verão, em determinadas localidades de praia o preço do picolé esteja mais caro.\n",
        "Para verificar se esse efeito é estatisticamente significativo, contactaram você, analista de dados.\n",
        "\n",
        "Suponha que para realizar essa análise voce tenha dados de **45** lojas em cidades do litoral, escolhidas aleatoriamente. E constatou que o preço médio do picolé nessas cidades é de **R\\$11,52**."
      ],
      "metadata": {
        "id": "XoL8DX03Nv8k"
      }
    },
    {
      "cell_type": "markdown",
      "source": [
        "### **Bibliotecas e leitura da base**"
      ],
      "metadata": {
        "id": "1tCld5tyObCm"
      }
    },
    {
      "cell_type": "code",
      "source": [
        "# bibliotecas base\n",
        "import pandas as pd\n",
        "import numpy as np\n",
        "\n",
        "# bibliotecas para visualização de dados\n",
        "import seaborn as sns\n",
        "import matplotlib.pyplot as plt\n",
        "\n",
        "# bibliotecas para estatística\n",
        "import scipy.stats as stat\n",
        "from scipy import stats\n",
        "import math"
      ],
      "metadata": {
        "id": "uu_zFjUDOaOG"
      },
      "execution_count": null,
      "outputs": []
    },
    {
      "cell_type": "markdown",
      "source": [
        "### 1. Voce pode concluir que existe diferenca de precos estatisticamente relevante com 5% de significancia?"
      ],
      "metadata": {
        "id": "nW_kHPpvN4GT"
      }
    },
    {
      "cell_type": "code",
      "source": [
        "import numpy as np\n",
        "import scipy.stats as stats\n",
        "\n",
        "# Parâmetros\n",
        "media_populacional = 7.85  # Média populacional\n",
        "desvio_padrao_populacional = 3.32  # Desvio padrão populacional\n",
        "n = 45  # Tamanho da amostra\n",
        "media_amostral = 11.52  # Média amostral\n",
        "\n",
        "# Realizando o teste de hipótese\n",
        "# H0: Não há diferença nos preços dos picolés (mu = 7.85)\n",
        "# H1: Existe diferença nos preços dos picolés (mu != 7.85)\n",
        "z_score = (media_amostral - media_populacional) / (desvio_padrao_populacional / np.sqrt(n))\n",
        "p_valor = 2 * (1 - stats.norm.cdf(np.abs(z_score)))  # Utilizamos o valor absoluto do z-score\n",
        "\n",
        "# Nível de significância\n",
        "nivel_significancia = 0.05\n",
        "\n",
        "# Verificando se rejeitamos ou não a hipótese nula\n",
        "if p_valor < nivel_significancia:\n",
        "    print(\"Rejeitamos a hipótese nula. Existe uma diferença estatisticamente relevante nos preços dos picolés.\")\n",
        "else:\n",
        "    print(\"Não temos evidências suficientes para rejeitar a hipótese nula. Não há diferença estatisticamente relevante nos preços dos picolés.\")\n",
        "\n",
        "# Exibindo o valor do p-valor\n",
        "print(\"Valor do p-valor:\", p_valor)\n"
      ],
      "metadata": {
        "id": "UTCSHc2ojhBJ",
        "colab": {
          "base_uri": "https://localhost:8080/"
        },
        "outputId": "3d19441a-9716-4105-fa6c-1bf10d721cec"
      },
      "execution_count": null,
      "outputs": [
        {
          "output_type": "stream",
          "name": "stdout",
          "text": [
            "Rejeitamos a hipótese nula. Existe uma diferença estatisticamente relevante nos preços dos picolés.\n",
            "Valor do p-valor: 1.212363542890671e-13\n"
          ]
        }
      ]
    },
    {
      "cell_type": "markdown",
      "source": [
        "### 2. Qual o valor da variável teste, o intervalo de confianca e o p-valor?"
      ],
      "metadata": {
        "id": "aP1bpB-4N4SK"
      }
    },
    {
      "cell_type": "code",
      "source": [
        "import numpy as np\n",
        "import scipy.stats as stats\n",
        "\n",
        "# Parâmetros\n",
        "media_populacional = 7.85  # Média populacional\n",
        "desvio_padrao_populacional = 3.32  # Desvio padrão populacional\n",
        "n = 45  # Tamanho da amostra\n",
        "media_amostral = 11.52  # Média amostral\n",
        "\n",
        "# Realizando o teste de hipótese\n",
        "# H0: Não há diferença nos preços dos picolés (mu = 7.85)\n",
        "# H1: Existe diferença nos preços dos picolés (mu != 7.85)\n",
        "z_score = (media_amostral - media_populacional) / (desvio_padrao_populacional / np.sqrt(n))\n",
        "p_valor = 2 * (1 - stats.norm.cdf(np.abs(z_score)))  # Utilizamos o valor absoluto do z-score\n",
        "\n",
        "# Intervalo de confiança\n",
        "alpha = 0.05  # Nível de significância\n",
        "intervalo_confianca = stats.norm.interval(1 - alpha, loc=media_amostral, scale=desvio_padrao_populacional/np.sqrt(n))\n",
        "\n",
        "# Exibindo os resultados\n",
        "print(\"Valor da variável teste (Z-score):\", z_score)\n",
        "print(\"Intervalo de confiança:\", intervalo_confianca)\n",
        "print(\"Valor do p-valor:\", p_valor)\n"
      ],
      "metadata": {
        "id": "T-o3jLH_jhZd",
        "colab": {
          "base_uri": "https://localhost:8080/"
        },
        "outputId": "b7486c34-51be-437f-f608-b52019dd159c"
      },
      "execution_count": null,
      "outputs": [
        {
          "output_type": "stream",
          "name": "stdout",
          "text": [
            "Valor da variável teste (Z-score): 7.415394106106231\n",
            "Intervalo de confiança: (10.549981721761917, 12.490018278238082)\n",
            "Valor do p-valor: 1.212363542890671e-13\n"
          ]
        }
      ]
    }
  ]
}